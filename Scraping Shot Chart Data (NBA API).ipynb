{
 "cells": [
  {
   "cell_type": "code",
   "execution_count": 1,
   "id": "69b088d8-a42d-49d5-8a72-d12d13f081b7",
   "metadata": {},
   "outputs": [],
   "source": [
    "from nba_api.stats.endpoints import shotchartdetail\n",
    "import json\n",
    "import pandas as pd\n",
    "import time\n",
    "\n",
    "pd.set_option('display.max_columns', None)\n",
    "pd.set_option('display.max_rows', None)"
   ]
  },
  {
   "cell_type": "code",
   "execution_count": 2,
   "id": "7b2acad2-0e85-494f-9111-a606ea7d1daf",
   "metadata": {},
   "outputs": [],
   "source": [
    "def shot_chart_data(year):\n",
    "    response = shotchartdetail.ShotChartDetail(\n",
    "        team_id=0,\n",
    "        player_id=0,\n",
    "        season_nullable=f'{year}-{str(year + 1)[2:]}',\n",
    "        context_measure_simple = 'FGA',\n",
    "        season_type_all_star='Regular Season'\n",
    "    )\n",
    "    \n",
    "    content = json.loads(response.get_json())\n",
    "    \n",
    "    results = content['resultSets'][0]\n",
    "    headers = results['headers']\n",
    "    rows = results['rowSet']\n",
    "    df = pd.DataFrame(rows, columns=headers)\n",
    "\n",
    "    relevant_cols = ['PLAYER_ID', 'PLAYER_NAME', 'TEAM_NAME', 'PERIOD', 'EVENT_TYPE', 'ACTION_TYPE', 'SHOT_TYPE',\n",
    "                    'SHOT_ZONE_BASIC', 'SHOT_ZONE_AREA', 'SHOT_ZONE_RANGE', 'SHOT_DISTANCE',\n",
    "                    'LOC_X', 'LOC_Y', 'SHOT_ATTEMPTED_FLAG', 'SHOT_MADE_FLAG', 'GAME_DATE']\n",
    "    # Dates\n",
    "    df[\"SEASON\"] = f'{year}-{str(year + 1)[2:]}'\n",
    "    df['GAME_DATE'] = pd.to_datetime(df['GAME_DATE'], format='%Y%m%d')\n",
    "\n",
    "    # Format the datetime column to the desired output format\n",
    "    df['GAME_DATE'] = df['GAME_DATE'].dt.strftime('%Y-%m-%d')\n",
    "    df.to_csv(f\"shotcharts/NBA_{year}-{str(year + 1)[2:]}_reg_season.csv\", index=False)\n",
    "    return df"
   ]
  },
  {
   "cell_type": "code",
   "execution_count": 3,
   "id": "642248e4-494a-4ae7-ab83-71e4c4ef4969",
   "metadata": {},
   "outputs": [
    {
     "name": "stdout",
     "output_type": "stream",
     "text": [
      "1996\n",
      "year: 188589 rows\n",
      "1997\n",
      "year: 189536 rows\n",
      "1998\n",
      "year: 113377 rows\n",
      "1999\n",
      "year: 195220 rows\n",
      "2000\n",
      "year: 191662 rows\n",
      "2001\n",
      "year: 193251 rows\n",
      "2002\n",
      "year: 192109 rows\n",
      "2003\n",
      "year: 189803 rows\n",
      "2004\n",
      "year: 197626 rows\n",
      "2005\n",
      "year: 194314 rows\n",
      "2006\n",
      "year: 196072 rows\n",
      "2007\n",
      "year: 200501 rows\n",
      "2008\n",
      "year: 199030 rows\n",
      "2009\n",
      "year: 200966 rows\n",
      "2010\n",
      "year: 199761 rows\n",
      "2011\n",
      "year: 161205 rows\n",
      "2012\n",
      "year: 201579 rows\n",
      "2013\n",
      "year: 204126 rows\n",
      "2014\n",
      "year: 205550 rows\n",
      "2015\n",
      "year: 207893 rows\n",
      "2016\n",
      "year: 209929 rows\n",
      "2017\n",
      "year: 211707 rows\n",
      "2018\n",
      "year: 219458 rows\n",
      "2019\n",
      "year: 188116 rows\n",
      "2020\n",
      "year: 190983 rows\n",
      "2021\n",
      "year: 216722 rows\n",
      "2022\n",
      "year: 217220 rows\n",
      "2023\n",
      "year: 218701 rows\n"
     ]
    }
   ],
   "source": [
    "for year in range(1996, 2024):\n",
    "    print(year)\n",
    "    df = shot_chart_data(year)\n",
    "    print(f\"year: {df.shape[0]} rows\")\n",
    "    time.sleep(2)"
   ]
  },
  {
   "cell_type": "code",
   "execution_count": null,
   "id": "5839b40e-32d7-4c9b-b47d-857bf85ccfce",
   "metadata": {},
   "outputs": [],
   "source": [
    "import os\n",
    "import polars as pl"
   ]
  },
  {
   "cell_type": "code",
   "execution_count": null,
   "id": "e8bbff79-ab5c-4471-8af8-d9b08fba3760",
   "metadata": {},
   "outputs": [],
   "source": [
    "directory = 'shotcharts/'\n",
    "\n",
    "# List all files and directories in the specified directory\n",
    "all_files = os.listdir(directory)\n",
    "\n",
    "# Filter out directories and keep only CSV files\n",
    "csv_files = [f\"{directory}/{f}\" for f in all_files if os.path.isfile(os.path.join(directory, f)) and f.endswith('.csv')]\n",
    "\n",
    "print(csv_files)"
   ]
  },
  {
   "cell_type": "code",
   "execution_count": null,
   "id": "fc7dc76a-7a5f-4aa9-bc63-4e50a4883830",
   "metadata": {},
   "outputs": [],
   "source": [
    "# Create dataframes for each CSV file\n",
    "dfs = [pl.read_csv(csv_file) for csv_file in csv_files]\n",
    "\n",
    "# Concatenate\n",
    "combined_df = pl.concat(dfs)\n",
    "\n",
    "combined_df.write_parquet(\n",
    "    \"data/shotcharts_historical.parquet.gz\",\n",
    "    compression=\"gzip\"\n",
    ")"
   ]
  },
  {
   "cell_type": "markdown",
   "id": "14c8a169-714f-464c-94e2-df1f6892ea7a",
   "metadata": {},
   "source": [
    "# Flow of the PPT\n",
    "* Game has changed\n",
    "* What are the positions\n",
    "* TDA uncovers specific positions\n",
    "* Frequent Itemset Analysis for of winning team compositions\n",
    "\n",
    "# Data vis ideas\n",
    "* Players become better at shooting threes (ratio )\n",
    "* Players are shooting more threes over time\n",
    "* Histogram of shot distance"
   ]
  },
  {
   "cell_type": "code",
   "execution_count": null,
   "id": "83bf03db-0804-45aa-9a19-ce81233c0ce8",
   "metadata": {},
   "outputs": [],
   "source": []
  }
 ],
 "metadata": {
  "kernelspec": {
   "display_name": "Python 3 (ipykernel)",
   "language": "python",
   "name": "python3"
  },
  "language_info": {
   "codemirror_mode": {
    "name": "ipython",
    "version": 3
   },
   "file_extension": ".py",
   "mimetype": "text/x-python",
   "name": "python",
   "nbconvert_exporter": "python",
   "pygments_lexer": "ipython3",
   "version": "3.11.2"
  }
 },
 "nbformat": 4,
 "nbformat_minor": 5
}
